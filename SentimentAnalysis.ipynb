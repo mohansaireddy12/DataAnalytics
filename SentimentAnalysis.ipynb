{
 "cells": [
  {
   "cell_type": "code",
   "execution_count": 1,
   "id": "35fdcffe-c346-4672-be27-ea1651e32910",
   "metadata": {},
   "outputs": [
    {
     "name": "stdout",
     "output_type": "stream",
     "text": [
      "Collecting textblobNote: you may need to restart the kernel to use updated packages.\n",
      "\n",
      "  Downloading textblob-0.18.0.post0-py3-none-any.whl.metadata (4.5 kB)\n",
      "Requirement already satisfied: nltk>=3.8 in c:\\users\\hello\\anaconda3\\lib\\site-packages (from textblob) (3.8.1)\n",
      "Requirement already satisfied: click in c:\\users\\hello\\anaconda3\\lib\\site-packages (from nltk>=3.8->textblob) (8.1.7)\n",
      "Requirement already satisfied: joblib in c:\\users\\hello\\anaconda3\\lib\\site-packages (from nltk>=3.8->textblob) (1.4.2)\n",
      "Requirement already satisfied: regex>=2021.8.3 in c:\\users\\hello\\anaconda3\\lib\\site-packages (from nltk>=3.8->textblob) (2023.10.3)\n",
      "Requirement already satisfied: tqdm in c:\\users\\hello\\anaconda3\\lib\\site-packages (from nltk>=3.8->textblob) (4.66.4)\n",
      "Requirement already satisfied: colorama in c:\\users\\hello\\anaconda3\\lib\\site-packages (from click->nltk>=3.8->textblob) (0.4.6)\n",
      "Downloading textblob-0.18.0.post0-py3-none-any.whl (626 kB)\n",
      "   ---------------------------------------- 0.0/626.3 kB ? eta -:--:--\n",
      "   ---------------------------------------- 0.0/626.3 kB ? eta -:--:--\n",
      "    --------------------------------------- 10.2/626.3 kB ? eta -:--:--\n",
      "    --------------------------------------- 10.2/626.3 kB ? eta -:--:--\n",
      "   - ------------------------------------- 30.7/626.3 kB 163.8 kB/s eta 0:00:04\n",
      "   - ------------------------------------- 30.7/626.3 kB 163.8 kB/s eta 0:00:04\n",
      "   --- ----------------------------------- 61.4/626.3 kB 252.2 kB/s eta 0:00:03\n",
      "   ------ ------------------------------- 112.6/626.3 kB 385.0 kB/s eta 0:00:02\n",
      "   ---------- --------------------------- 174.1/626.3 kB 523.5 kB/s eta 0:00:01\n",
      "   -------------- ----------------------- 235.5/626.3 kB 600.7 kB/s eta 0:00:01\n",
      "   ------------------ ------------------- 307.2/626.3 kB 703.7 kB/s eta 0:00:01\n",
      "   ----------------------- -------------- 389.1/626.3 kB 782.8 kB/s eta 0:00:01\n",
      "   --------------------------- ---------- 450.6/626.3 kB 853.3 kB/s eta 0:00:01\n",
      "   -------------------------------- ----- 532.5/626.3 kB 903.5 kB/s eta 0:00:01\n",
      "   -------------------------------------  624.6/626.3 kB 983.0 kB/s eta 0:00:01\n",
      "   -------------------------------------- 626.3/626.3 kB 916.8 kB/s eta 0:00:00\n",
      "Installing collected packages: textblob\n",
      "Successfully installed textblob-0.18.0.post0\n"
     ]
    }
   ],
   "source": [
    "pip install textblob"
   ]
  },
  {
   "cell_type": "code",
   "execution_count": 3,
   "id": "24486b6a-795e-48c5-b114-c260d09e577f",
   "metadata": {},
   "outputs": [
    {
     "name": "stdout",
     "output_type": "stream",
     "text": [
      "Text: I love this product! It's amazing.\n",
      "Polarity: 0.6125\n",
      "Subjectivity: 0.75\n",
      "Sentiment: Positive\n",
      "Text: This is the worst experience I've ever had.\n",
      "Polarity: -1.0\n",
      "Subjectivity: 1.0\n",
      "Sentiment: Negative\n",
      "Text: The movie was okay, not great but not terrible.\n",
      "Polarity: 0.19999999999999998\n",
      "Subjectivity: 0.75\n",
      "Sentiment: Positive\n"
     ]
    }
   ],
   "source": [
    "from textblob import TextBlob\n",
    "\n",
    "def analyze_sentiment(text):\n",
    "    # Create a TextBlob object\n",
    "    blob = TextBlob(text)\n",
    "    \n",
    "    # Get the sentiment polarity and subjectivity\n",
    "    sentiment = blob.sentiment\n",
    "    \n",
    "    # Print the results\n",
    "    print(f\"Text: {text}\")\n",
    "    print(f\"Polarity: {sentiment.polarity}\")\n",
    "    print(f\"Subjectivity: {sentiment.subjectivity}\")\n",
    "\n",
    "    # Interpret the polarity\n",
    "    if sentiment.polarity > 0:\n",
    "        print(\"Sentiment: Positive\")\n",
    "    elif sentiment.polarity < 0:\n",
    "        print(\"Sentiment: Negative\")\n",
    "    else:\n",
    "        print(\"Sentiment: Neutral\")\n",
    "\n",
    "# Example texts\n",
    "texts = [\n",
    "    \"I love this product! It's amazing.\",\n",
    "    \"This is the worst experience I've ever had.\",\n",
    "    \"The movie was okay, not great but not terrible.\",\n",
    "]\n",
    "\n",
    "for text in texts:\n",
    "    analyze_sentiment(text)"
   ]
  },
  {
   "cell_type": "code",
   "execution_count": null,
   "id": "e3ddcd12-43d2-4bda-b250-a9495137dea6",
   "metadata": {},
   "outputs": [],
   "source": []
  }
 ],
 "metadata": {
  "kernelspec": {
   "display_name": "Python 3 (ipykernel)",
   "language": "python",
   "name": "python3"
  },
  "language_info": {
   "codemirror_mode": {
    "name": "ipython",
    "version": 3
   },
   "file_extension": ".py",
   "mimetype": "text/x-python",
   "name": "python",
   "nbconvert_exporter": "python",
   "pygments_lexer": "ipython3",
   "version": "3.12.4"
  }
 },
 "nbformat": 4,
 "nbformat_minor": 5
}
