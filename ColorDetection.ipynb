{
 "cells": [
  {
   "cell_type": "code",
   "execution_count": 1,
   "id": "b61b4737-6414-4968-84bd-8bb22d851666",
   "metadata": {},
   "outputs": [],
   "source": [
    "import cv2\n",
    "import numpy as np\n",
    "\n",
    "# Define the color ranges in HSV\n",
    "# Example: Red color range\n",
    "lower_red = np.array([0, 100, 100])\n",
    "upper_red = np.array([10, 255, 255])\n",
    "\n",
    "def detect_color(image, lower_color, upper_color):\n",
    "    hsv_image = cv2.cvtColor(image, cv2.COLOR_BGR2HSV)\n",
    "    mask = cv2.inRange(hsv_image, lower_color, upper_color)\n",
    "    result = cv2.bitwise_and(image, image, mask=mask)\n",
    "    return result\n",
    "\n",
    "def main(image_path):\n",
    "    # Load the image from file\n",
    "    image = cv2.imread(image_path)\n",
    "    if image is None:\n",
    "        print(f\"Error: Unable to load image from {image_path}\")\n",
    "        return\n",
    "\n",
    "    # Detect the color in the image\n",
    "    detected_color_image = detect_color(image, lower_red, upper_red)\n",
    "\n",
    "    # Display the original image and the result\n",
    "    cv2.imshow('Original Image', image)\n",
    "    cv2.imshow('Detected Color', detected_color_image)\n",
    "\n",
    "    # Wait until a key is pressed\n",
    "    cv2.waitKey(0)\n",
    "    cv2.destroyAllWindows()\n",
    "\n",
    "if __name__ == \"__main__\":\n",
    "    # Replace 'image.jpg' with the path to your image file\n",
    "    main(\"C:/Users/HELLO/Downloads/pexels-pixabay-206359.jpg\")"
   ]
  },
  {
   "cell_type": "code",
   "execution_count": null,
   "id": "c7e2a68b-d415-4623-a33d-c0dcf7558562",
   "metadata": {},
   "outputs": [],
   "source": []
  }
 ],
 "metadata": {
  "kernelspec": {
   "display_name": "Python 3 (ipykernel)",
   "language": "python",
   "name": "python3"
  },
  "language_info": {
   "codemirror_mode": {
    "name": "ipython",
    "version": 3
   },
   "file_extension": ".py",
   "mimetype": "text/x-python",
   "name": "python",
   "nbconvert_exporter": "python",
   "pygments_lexer": "ipython3",
   "version": "3.12.4"
  }
 },
 "nbformat": 4,
 "nbformat_minor": 5
}
